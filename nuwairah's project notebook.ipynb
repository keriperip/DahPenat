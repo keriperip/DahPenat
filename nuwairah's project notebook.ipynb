{
 "cells": [
  {
   "cell_type": "code",
   "execution_count": 1,
   "id": "7d0fcfb9",
   "metadata": {},
   "outputs": [],
   "source": [
    "import numpy as np\n",
    "import matplotlib.pyplot as plt\n",
    "from ipywidgets import widgets, interact, interactive\n",
    "from IPython.display import clear_output, display, HTML\n",
    "from scipy.integrate import trapz, simps\n",
    "from scipy.spatial.distance import pdist, squareform\n",
    "import matplotlib.patches as patches\n",
    "import matplotlib.path as path\n",
    "from matplotlib.animation import FuncAnimation"
   ]
  },
  {
   "cell_type": "code",
   "execution_count": 2,
   "id": "aec5c9ea",
   "metadata": {},
   "outputs": [
    {
     "data": {
      "application/vnd.jupyter.widget-view+json": {
       "model_id": "6ec02a1bbdae42b0866a9e2232063d07",
       "version_major": 2,
       "version_minor": 0
      },
      "text/plain": [
       "interactive(children=(IntSlider(value=475, description='T', max=1000, min=25, step=50), Output()), _dom_classe…"
      ]
     },
     "execution_count": 2,
     "metadata": {},
     "output_type": "execute_result"
    }
   ],
   "source": [
    "kB = 1.3806503e-23 # m2 kg s-2 K-1\n",
    "R=8.314\n",
    "m=0.039948\n",
    "\n",
    "def fm1(T):\n",
    "\n",
    "    m = 39.948e-27 #argon\n",
    "    m2= 4.002602e-27 #helium\n",
    "    m3= 28.0134e-27 #N2\n",
    "    m4= 15.999e-27 #O2\n",
    "    m5= 2.01588e-27 #H2\n",
    "\n",
    "    fm1=[]\n",
    "    fm2=[]\n",
    "    fm3=[]\n",
    "    fm4=[]\n",
    "    fm5=[]\n",
    "\n",
    "    v = np.arange(1500)\n",
    "\n",
    "    for ii in np.arange(len(v)): fm1.append((m/(2.*np.pi*kB*T))**1.5 * 4.*np.pi*v[ii]*v[ii] * np.exp((-m*v[ii]*v[ii])/(2.*kB*T)))\n",
    "    for ii in np.arange(len(v)): fm2.append((m2/(2.*np.pi*kB*T))**1.5 * 4.*np.pi*v[ii]*v[ii] * np.exp((-m2*v[ii]*v[ii])/(2.*kB*T)))\n",
    "    for ii in np.arange(len(v)): fm3.append((m3/(2.*np.pi*kB*T))**1.5 * 4.*np.pi*v[ii]*v[ii] * np.exp((-m3*v[ii]*v[ii])/(2.*kB*T)))\n",
    "    for ii in np.arange(len(v)): fm4.append((m4/(2.*np.pi*kB*T))**1.5 * 4.*np.pi*v[ii]*v[ii] * np.exp((-m4*v[ii]*v[ii])/(2.*kB*T)))\n",
    "    for ii in np.arange(len(v)): fm5.append((m5/(2.*np.pi*kB*T))**1.5 * 4.*np.pi*v[ii]*v[ii] * np.exp((-m5*v[ii]*v[ii])/(2.*kB*T)))\n",
    "\n",
    "    plt.figure(figsize=(7,7))\n",
    "    plt.xlabel('v (m/s)', fontsize=14)\n",
    "    plt.ylabel('f(v)', fontsize=16)\n",
    "\n",
    "    plt.plot(v,fm1,label='', alpha=0.8, color='g')\n",
    "    plt.plot(v,fm4,label='', alpha=0.9, color='royalblue')\n",
    "    plt.plot(v,fm2,label='', alpha=0.8, color='b')\n",
    "    #plt.plot(v,fm3,label='')\n",
    "    plt.plot(v,fm5,label='', alpha=0.8, color='m')\n",
    "  \n",
    "    #vrms=((3*R*T)/M)**0.5\n",
    "    #print('vrms: '+'{:5.2f}'.format(vrms)+ ' m/s')\n",
    "  \n",
    "    plt.fill_between(v, fm1, alpha=0.2, color='springgreen')\n",
    "    plt.fill_between(v, fm4, alpha=0.2, color='deepskyblue')\n",
    "    plt.fill_between(v, fm2, alpha=0.1, color='blue')\n",
    "    plt.fill_between(v, fm5, alpha=0.1, color='m')\n",
    "\n",
    "    #plt.plot([vrms],[fm1], marker=',', color='gray',label='vrms')\n",
    "\n",
    "    plt.title('Maxwell-Boltzmann speed distribution'+'       T = ' +str(T)+' K')\n",
    "    plt.ylim(0, 0.0065)\n",
    "    plt.legend()\n",
    "\n",
    "interactive_plot = interactive(fm1,T=(25,1000,50), label='name')\n",
    "interactive_plot"
   ]
  },
  {
   "cell_type": "code",
   "execution_count": 3,
   "id": "c3ba8e53",
   "metadata": {},
   "outputs": [
    {
     "data": {
      "application/vnd.jupyter.widget-view+json": {
       "model_id": "db3856a3a9b7475aa50d7ebe1dfec177",
       "version_major": 2,
       "version_minor": 0
      },
      "text/plain": [
       "interactive(children=(FloatSlider(value=598.15, description='T', max=1000.0, min=298.15, step=100.0), Output()…"
      ]
     },
     "execution_count": 3,
     "metadata": {},
     "output_type": "execute_result"
    }
   ],
   "source": [
    "kB = 1.3806503e-23 # m2 kg s-2 K-1\n",
    "R=8.314\n",
    "\n",
    "\n",
    "def fm1(T):\n",
    "\n",
    "    fm1=[]\n",
    "    KE = np.arange(200000)\n",
    "    for ii in np.arange(len(KE)): fm1.append(2*np.pi*((1/(np.pi*R*T))**(3/2))*(KE[ii]**(0.5))*np.exp(-KE[ii]/(R*T)))\n",
    "\n",
    "    fm40k=[]\n",
    "    KE40k = np.arange(20000, 40000)\n",
    "    for ii in np.arange(len(KE40k)): fm40k.append(2*np.pi*((1/(np.pi*R*T))**(3./2.))*(KE40k[ii]**(0.5))*np.exp(-KE40k[ii]/(R*T)))\n",
    "\n",
    "    plt.figure(figsize=(7,7))\n",
    "    plt.xlabel('Kinetic Energy (J/mol)', fontsize=14)\n",
    "    plt.ylabel('Fraction per J/mol', fontsize=16)\n",
    "    \n",
    "    plt.plot(KE, fm1, alpha=0.8, color='black')\n",
    "    plt.ylim(0, 0.0002)\n",
    "    plt.xlim(0, 40000)\n",
    "\n",
    "    KE_mp = (1/2)*R*T\n",
    "    fKE_mp =(2*np.pi*((1/(np.pi*R*T))**(3/2))*(KE_mp**(0.5))*np.exp(-KE_mp/(R*T)))\n",
    "    plt.plot([KE_mp, KE_mp],[0,fKE_mp],marker=',', label=': '+'{:5.2f}'.format(KE_mp)+ ' J/mol')\n",
    "\n",
    "    KE_mean = (3/2)*R*T\n",
    "    fKE_mean =(2*np.pi*((1/(np.pi*R*T))**(3/2))*(KE_mean**(0.5))*np.exp(-KE_mean/(R*T)))\n",
    "    plt.plot([KE_mean, KE_mean],[0,fKE_mean],marker=',', label=': '+'{:5.2f}'.format(KE_mean)+ ' J/mol')\n",
    "    \n",
    "    plt.text(13000, 0.00012,'Percent of molecules with kinetic energy' +'\\n'+ 'above of 20,000 J/mol: '+str('{:5.2f}'.format(trapz(fm40k, KE40k)*100)+'%'), fontsize=12)\n",
    "    plt.fill_between(KE40k, fm40k, alpha=0.2, color='gray')\n",
    "    plt.title('Maxwell-Boltzmann kinetic energy distribution'+'   T = ' +str(T)+' K')\n",
    "\n",
    "    plt.legend()\n",
    "\n",
    "\n",
    "interactive_plot = interactive(fm1,T=(298.15,1000,100), label='name')\n",
    "interactive_plot"
   ]
  },
  {
   "cell_type": "code",
   "execution_count": 4,
   "id": "5d512cb2",
   "metadata": {},
   "outputs": [
    {
     "data": {
      "application/vnd.jupyter.widget-view+json": {
       "model_id": "c7db54e60bea4a6b94b8c83e3f643a9f",
       "version_major": 2,
       "version_minor": 0
      },
      "text/plain": [
       "interactive(children=(IntSlider(value=290, description='T', max=350, min=240, step=10), Output()), _dom_classe…"
      ]
     },
     "execution_count": 4,
     "metadata": {},
     "output_type": "execute_result"
    }
   ],
   "source": [
    "kB = 1.3806503e-23 # m2 kg s-2 K-1\n",
    "R=8.314\n",
    "M = 0.028 #molar mass for N2 in kg/mol\n",
    "M_air = 0.02897 #the average molar mass of dry air is 28.97 g/mol\n",
    "\n",
    "\n",
    "def fm1(T):\n",
    "\n",
    "    fm1, fm_air=[],[]\n",
    "    \n",
    "    \"\"\" Calculates the adiabatic index of air at temperatures ranging \n",
    "    233.15 - 673.15 K at standard atmospheric pressure \"\"\"\n",
    "\n",
    "    K_air=0.0000000003*(T)**3 - (0.0000005)*(T)**2 + 0.0002*T + 1.3768\n",
    "\n",
    "    \"\"\" Generates MB curves \"\"\"\n",
    "    v = np.arange(2000)\n",
    "    for ii in np.arange(len(v)): fm1.append((M/(2.*np.pi*R*T))**1.5 * 4.*np.pi*v[ii]*v[ii] * np.exp((-M*v[ii]*v[ii])/(2.*R*T)))\n",
    "    for ii in np.arange(len(v)): fm_air.append((M_air/(2.*np.pi*R*T))**1.5 * 4.*np.pi*v[ii]*v[ii] * np.exp((-M_air*v[ii]*v[ii])/(2.*R*T)))\n",
    "\n",
    "    plt.figure(figsize=(7,7))\n",
    "    plt.xlabel('v (m/s)', fontsize=14)\n",
    "    plt.ylabel('f(v)', fontsize=16)\n",
    "\n",
    "    plt.plot(v,fm_air, alpha=0.9, color='black',  label='air')\n",
    "    plt.plot(v,fm1, alpha=0.9, color='gray', linestyle = 'dashed', label=': ')\n",
    "\n",
    "    vp=((2.*R*T)/M)**0.5 \n",
    "    vrms=(((3.*R*T)/M)**0.5)\n",
    "    vrms_air=(((3.*R*T)/M_air)**0.5) #uses MW of dry air\n",
    "    vmean=((8.*R*T)/(M*np.pi))**0.5\n",
    "\n",
    "    c=((K_air/3)**0.5)*vrms_air #this is for air\n",
    "\n",
    "    vp_C=(((2.*R*T)/M)**0.5)*(0.84) #this will approximate c in m/s\n",
    "    vrms_C=(((3.*R*T)/M)**0.5)*(0.68) #this will approximate c in m/s\n",
    "    avg_C=(vp_C+vrms_C)/2 #finds the mean of the two above lines\n",
    "\n",
    "    fvp =((M/(2.*np.pi*R*T))**1.5 * 4.*np.pi*vp*vp * np.exp((-M*vp*vp)/(2.*R*T)))\n",
    "    fvrms =((M/(2.*np.pi*R*T))**1.5 * 4.*np.pi*vrms*vrms * np.exp((-M*vrms*vrms)/(2.*R*T)))\n",
    "\n",
    "    fvp_C =((M/(2.*np.pi*R*T))**1.5 * 4.*np.pi*vp_C*vp_C* np.exp((-M*vp_C*vp_C)/(2.*R*T)))\n",
    "    fvrms_C =((M/(2.*np.pi*R*T))**1.5 * 4.*np.pi*vrms_C*vrms_C * np.exp((-M*vrms_C*vrms_C)/(2.*R*T)))\n",
    "\n",
    "    plt.text(800, 0.0015, 'Speed of Sound for ' + ',' +'\\n'+ 'c ≈'+str('{:5.2f}'.format(avg_C)+' m/s'), fontsize=18, )\n",
    "    plt.text(900, 0.001, 'Using γ of air,' +'\\n'+ 'c ≈'+str('{:5.2f}'.format(c)+' m/s'), fontsize=18, )\n",
    "\n",
    "    plt.plot([vp_C,vp_C],[0,fvp_C], marker=',', color='r', label='84 for : '+'{:5.2f}'.format(vp_C)+ ' m/s')\n",
    "    plt.plot([vrms_C, vrms_C],[0,fvrms_C],marker=',', label='68 for : '+'{:5.2f}'.format(vrms_C)+ ' m/s')\n",
    "\n",
    "    plt.xlim(0, 2000)\n",
    "    plt.ylim(0, 0.0025)\n",
    "    \n",
    "    plt.title('Maxwell-Boltzmann speed distribution'+'   T = ' +str(T)+' K')\n",
    "    plt.legend()\n",
    "  \n",
    "\n",
    "interactive_plot = interactive(fm1,T=(240,350,10), label='name')\n",
    "interactive_plot"
   ]
  }
 ],
 "metadata": {
  "kernelspec": {
   "display_name": "Python 3 (ipykernel)",
   "language": "python",
   "name": "python3"
  },
  "language_info": {
   "codemirror_mode": {
    "name": "ipython",
    "version": 3
   },
   "file_extension": ".py",
   "mimetype": "text/x-python",
   "name": "python",
   "nbconvert_exporter": "python",
   "pygments_lexer": "ipython3",
   "version": "3.10.8"
  },
  "toc": {
   "base_numbering": 1,
   "nav_menu": {},
   "number_sections": true,
   "sideBar": true,
   "skip_h1_title": false,
   "title_cell": "Table of Contents",
   "title_sidebar": "Contents",
   "toc_cell": false,
   "toc_position": {},
   "toc_section_display": true,
   "toc_window_display": false
  },
  "varInspector": {
   "cols": {
    "lenName": 16,
    "lenType": 16,
    "lenVar": 40
   },
   "kernels_config": {
    "python": {
     "delete_cmd_postfix": "",
     "delete_cmd_prefix": "del ",
     "library": "var_list.py",
     "varRefreshCmd": "print(var_dic_list())"
    },
    "r": {
     "delete_cmd_postfix": ") ",
     "delete_cmd_prefix": "rm(",
     "library": "var_list.r",
     "varRefreshCmd": "cat(var_dic_list()) "
    }
   },
   "types_to_exclude": [
    "module",
    "function",
    "builtin_function_or_method",
    "instance",
    "_Feature"
   ],
   "window_display": false
  }
 },
 "nbformat": 4,
 "nbformat_minor": 5
}
