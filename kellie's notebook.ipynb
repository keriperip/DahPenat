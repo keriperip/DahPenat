{
 "cells": [
  {
   "cell_type": "code",
   "execution_count": null,
   "id": "26ab2a87",
   "metadata": {},
   "outputs": [],
   "source": [
    "\n",
    "def animate(time):\n",
    "    i = int(np.rint(time/timestep))\n",
    "    \n",
    "    #ax.set_title('Energy =' + str(Energy[i]))\n",
    "    \n",
    "    # Draw Particles as circles\n",
    "    for j in range(particle_number):\n",
    "        circle[j].center = particle_list[j].solpos[i][0], particle_list[j].solpos[i][1]\n",
    "    hist.clear()    \n",
    "    \n",
    "    # Graph Particles speed histogram\n",
    "    vel_mod = [particle_list[j].solvel_mag[i] for j in range(len(particle_list))]\n",
    "    hist.hist(vel_mod, bins= 10, density = True, label = \"Simulation Data\")\n",
    "    hist.set_xlabel(\"Speed\")\n",
    "    hist.set_ylabel(\"Frecuency Density\")\n",
    "    \n",
    "    # Compute 2d Boltzmann distribution\n",
    "    E = total_Energy(particle_list, i)\n",
    "    Average_E = E/len(particle_list) \n",
    "    k = 1.38064852e-23\n",
    "    T = 2*Average_E/(2*k)\n",
    "    m = particle_list[0].mass\n",
    "    v = np.linspace(0,10,120)\n",
    "    fv = m*np.exp(-m*v**2/(2*T*k))/(2*np.pi*T*k)*2*np.pi*v\n",
    "    hist.plot(v,fv, label = \"Maxwell–Boltzmann distribution\") \n",
    "    hist.legend(loc =\"upper right\")\n",
    "    \n",
    "ani = FuncAnimation(fig, animate, frames=5000, interval=500, blit=True)"
   ]
  }
 ],
 "metadata": {
  "kernelspec": {
   "display_name": "Python 3 (ipykernel)",
   "language": "python",
   "name": "python3"
  },
  "language_info": {
   "codemirror_mode": {
    "name": "ipython",
    "version": 3
   },
   "file_extension": ".py",
   "mimetype": "text/x-python",
   "name": "python",
   "nbconvert_exporter": "python",
   "pygments_lexer": "ipython3",
   "version": "3.10.8"
  },
  "toc": {
   "base_numbering": 1,
   "nav_menu": {},
   "number_sections": true,
   "sideBar": true,
   "skip_h1_title": false,
   "title_cell": "Table of Contents",
   "title_sidebar": "Contents",
   "toc_cell": false,
   "toc_position": {},
   "toc_section_display": true,
   "toc_window_display": false
  },
  "varInspector": {
   "cols": {
    "lenName": 16,
    "lenType": 16,
    "lenVar": 40
   },
   "kernels_config": {
    "python": {
     "delete_cmd_postfix": "",
     "delete_cmd_prefix": "del ",
     "library": "var_list.py",
     "varRefreshCmd": "print(var_dic_list())"
    },
    "r": {
     "delete_cmd_postfix": ") ",
     "delete_cmd_prefix": "rm(",
     "library": "var_list.r",
     "varRefreshCmd": "cat(var_dic_list()) "
    }
   },
   "types_to_exclude": [
    "module",
    "function",
    "builtin_function_or_method",
    "instance",
    "_Feature"
   ],
   "window_display": false
  }
 },
 "nbformat": 4,
 "nbformat_minor": 5
}
